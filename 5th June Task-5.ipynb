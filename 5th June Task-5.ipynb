{
 "cells": [
  {
   "cell_type": "code",
   "execution_count": null,
   "id": "85101710",
   "metadata": {},
   "outputs": [],
   "source": [
    "q1.Try to print a prime number in between 1 to 1000"
   ]
  },
  {
   "cell_type": "code",
   "execution_count": 63,
   "id": "db240488",
   "metadata": {},
   "outputs": [
    {
     "name": "stdout",
     "output_type": "stream",
     "text": [
      "1 2 3 5 7 11 13 17 19 23 29 31 37 41 43 47 53 59 61 67 71 73 79 83 89 97 101 103 107 109 113 127 131 137 139 149 151 157 163 167 173 179 181 191 193 197 199 211 223 227 229 233 239 241 251 257 263 269 271 277 281 283 293 307 311 313 317 331 337 347 349 353 359 367 373 379 383 389 397 401 409 419 421 431 433 439 443 449 457 461 463 467 479 487 491 499 503 509 521 523 541 547 557 563 569 571 577 587 593 599 601 607 613 617 619 631 641 643 647 653 659 661 673 677 683 691 701 709 719 727 733 739 743 751 757 761 769 773 787 797 809 811 821 823 827 829 839 853 857 859 863 877 881 883 887 907 911 919 929 937 941 947 953 967 971 977 983 991 997 "
     ]
    }
   ],
   "source": [
    "for i in range(1,1001):\n",
    "    flag=0\n",
    "    for j in range (2,i):\n",
    "        if i%j==0:\n",
    "            flag=1\n",
    "            break\n",
    "    if flag==0:\n",
    "        print(i,end=\" \")\n",
    "    "
   ]
  },
  {
   "cell_type": "code",
   "execution_count": null,
   "id": "0bdcdb4f",
   "metadata": {},
   "outputs": [],
   "source": [
    " q4 : Try to write a lambda function which can return a concatination of all the string that we will pass"
   ]
  },
  {
   "cell_type": "code",
   "execution_count": null,
   "id": "2a8ed3d6",
   "metadata": {},
   "outputs": [],
   "source": [
    "l= lambda a,b,c,d:a+' '+b+' '+c+' '+d"
   ]
  },
  {
   "cell_type": "code",
   "execution_count": 64,
   "id": "44f52e97",
   "metadata": {},
   "outputs": [
    {
     "data": {
      "text/plain": [
       "'pallavi tewari is good'"
      ]
     },
     "execution_count": 64,
     "metadata": {},
     "output_type": "execute_result"
    }
   ],
   "source": [
    "l('pallavi','tewari','is','good')"
   ]
  },
  {
   "cell_type": "code",
   "execution_count": null,
   "id": "6c836b77",
   "metadata": {},
   "outputs": [],
   "source": [
    "q5 : Try to write a lambda function which can return list of square of all the data between 1-100"
   ]
  },
  {
   "cell_type": "code",
   "execution_count": 65,
   "id": "7fd5131a",
   "metadata": {},
   "outputs": [],
   "source": [
    "x=lambda *m: [i*i for i in range(1,101)]"
   ]
  },
  {
   "cell_type": "code",
   "execution_count": 66,
   "id": "942ae949",
   "metadata": {},
   "outputs": [
    {
     "data": {
      "text/plain": [
       "[1,\n",
       " 4,\n",
       " 9,\n",
       " 16,\n",
       " 25,\n",
       " 36,\n",
       " 49,\n",
       " 64,\n",
       " 81,\n",
       " 100,\n",
       " 121,\n",
       " 144,\n",
       " 169,\n",
       " 196,\n",
       " 225,\n",
       " 256,\n",
       " 289,\n",
       " 324,\n",
       " 361,\n",
       " 400,\n",
       " 441,\n",
       " 484,\n",
       " 529,\n",
       " 576,\n",
       " 625,\n",
       " 676,\n",
       " 729,\n",
       " 784,\n",
       " 841,\n",
       " 900,\n",
       " 961,\n",
       " 1024,\n",
       " 1089,\n",
       " 1156,\n",
       " 1225,\n",
       " 1296,\n",
       " 1369,\n",
       " 1444,\n",
       " 1521,\n",
       " 1600,\n",
       " 1681,\n",
       " 1764,\n",
       " 1849,\n",
       " 1936,\n",
       " 2025,\n",
       " 2116,\n",
       " 2209,\n",
       " 2304,\n",
       " 2401,\n",
       " 2500,\n",
       " 2601,\n",
       " 2704,\n",
       " 2809,\n",
       " 2916,\n",
       " 3025,\n",
       " 3136,\n",
       " 3249,\n",
       " 3364,\n",
       " 3481,\n",
       " 3600,\n",
       " 3721,\n",
       " 3844,\n",
       " 3969,\n",
       " 4096,\n",
       " 4225,\n",
       " 4356,\n",
       " 4489,\n",
       " 4624,\n",
       " 4761,\n",
       " 4900,\n",
       " 5041,\n",
       " 5184,\n",
       " 5329,\n",
       " 5476,\n",
       " 5625,\n",
       " 5776,\n",
       " 5929,\n",
       " 6084,\n",
       " 6241,\n",
       " 6400,\n",
       " 6561,\n",
       " 6724,\n",
       " 6889,\n",
       " 7056,\n",
       " 7225,\n",
       " 7396,\n",
       " 7569,\n",
       " 7744,\n",
       " 7921,\n",
       " 8100,\n",
       " 8281,\n",
       " 8464,\n",
       " 8649,\n",
       " 8836,\n",
       " 9025,\n",
       " 9216,\n",
       " 9409,\n",
       " 9604,\n",
       " 9801,\n",
       " 10000]"
      ]
     },
     "execution_count": 66,
     "metadata": {},
     "output_type": "execute_result"
    }
   ],
   "source": [
    "x()"
   ]
  },
  {
   "cell_type": "code",
   "execution_count": null,
   "id": "629959cc",
   "metadata": {},
   "outputs": [],
   "source": [
    "q6 : Try to write a 10 Different different example of lambda function with a choice of your taks "
   ]
  },
  {
   "cell_type": "code",
   "execution_count": 82,
   "id": "807aeecc",
   "metadata": {},
   "outputs": [],
   "source": [
    "x=lambda a:a*a"
   ]
  },
  {
   "cell_type": "code",
   "execution_count": 83,
   "id": "01f95003",
   "metadata": {},
   "outputs": [
    {
     "data": {
      "text/plain": [
       "256"
      ]
     },
     "execution_count": 83,
     "metadata": {},
     "output_type": "execute_result"
    }
   ],
   "source": [
    "x(16)"
   ]
  },
  {
   "cell_type": "code",
   "execution_count": 84,
   "id": "7f3ddcb4",
   "metadata": {},
   "outputs": [],
   "source": [
    "q=lambda z:print(z)"
   ]
  },
  {
   "cell_type": "code",
   "execution_count": 85,
   "id": "bb7fb23d",
   "metadata": {},
   "outputs": [
    {
     "name": "stdout",
     "output_type": "stream",
     "text": [
      "pallavi\n"
     ]
    }
   ],
   "source": [
    "q(\"pallavi\")"
   ]
  },
  {
   "cell_type": "code",
   "execution_count": 86,
   "id": "d39525c4",
   "metadata": {},
   "outputs": [],
   "source": [
    "q=lambda:print(\"hello\")"
   ]
  },
  {
   "cell_type": "code",
   "execution_count": 87,
   "id": "ef447f91",
   "metadata": {},
   "outputs": [
    {
     "name": "stdout",
     "output_type": "stream",
     "text": [
      "hello\n"
     ]
    }
   ],
   "source": [
    "q()"
   ]
  },
  {
   "cell_type": "code",
   "execution_count": 88,
   "id": "9fac2807",
   "metadata": {},
   "outputs": [],
   "source": [
    "z=lambda x:input(\"enter a number\")"
   ]
  },
  {
   "cell_type": "code",
   "execution_count": 90,
   "id": "8d9d0fe2",
   "metadata": {},
   "outputs": [
    {
     "name": "stdout",
     "output_type": "stream",
     "text": [
      "enter a number1234\n"
     ]
    },
    {
     "data": {
      "text/plain": [
       "'1234'"
      ]
     },
     "execution_count": 90,
     "metadata": {},
     "output_type": "execute_result"
    }
   ],
   "source": [
    "z(12)"
   ]
  },
  {
   "cell_type": "code",
   "execution_count": 92,
   "id": "c3a01da2",
   "metadata": {},
   "outputs": [],
   "source": [
    "tens=lambda x:int(x/10)%10"
   ]
  },
  {
   "cell_type": "code",
   "execution_count": 93,
   "id": "7ceac961",
   "metadata": {},
   "outputs": [
    {
     "data": {
      "text/plain": [
       "8"
      ]
     },
     "execution_count": 93,
     "metadata": {},
     "output_type": "execute_result"
    }
   ],
   "source": [
    "get_tens(986)"
   ]
  },
  {
   "cell_type": "code",
   "execution_count": 96,
   "id": "63d37716",
   "metadata": {},
   "outputs": [],
   "source": [
    "z=lambda y:True if y.startswith('P') else False "
   ]
  },
  {
   "cell_type": "code",
   "execution_count": 97,
   "id": "898c094d",
   "metadata": {},
   "outputs": [
    {
     "data": {
      "text/plain": [
       "False"
      ]
     },
     "execution_count": 97,
     "metadata": {},
     "output_type": "execute_result"
    }
   ],
   "source": [
    "z(\"pallavi\")"
   ]
  },
  {
   "cell_type": "code",
   "execution_count": 108,
   "id": "b11e4821",
   "metadata": {},
   "outputs": [],
   "source": [
    "q=lambda y,x:[y.split().index(x)-1]"
   ]
  },
  {
   "cell_type": "code",
   "execution_count": 109,
   "id": "c0719ee4",
   "metadata": {},
   "outputs": [
    {
     "data": {
      "text/plain": [
       "[3]"
      ]
     },
     "execution_count": 109,
     "metadata": {},
     "output_type": "execute_result"
    }
   ],
   "source": [
    "q('four more runs to win','win')"
   ]
  },
  {
   "cell_type": "code",
   "execution_count": 117,
   "id": "d2260152",
   "metadata": {},
   "outputs": [],
   "source": [
    "q=lambda *a:[j for j in a]"
   ]
  },
  {
   "cell_type": "code",
   "execution_count": 118,
   "id": "86357f46",
   "metadata": {},
   "outputs": [
    {
     "data": {
      "text/plain": [
       "[2, 3, 4, 5, 3, 4]"
      ]
     },
     "execution_count": 118,
     "metadata": {},
     "output_type": "execute_result"
    }
   ],
   "source": [
    "q(2,3,4,5,3,4)"
   ]
  },
  {
   "cell_type": "code",
   "execution_count": 122,
   "id": "66e9749a",
   "metadata": {},
   "outputs": [],
   "source": [
    "q=lambda y,x:(y.split().index(x))"
   ]
  },
  {
   "cell_type": "code",
   "execution_count": 123,
   "id": "15e5851e",
   "metadata": {},
   "outputs": [
    {
     "data": {
      "text/plain": [
       "1"
      ]
     },
     "execution_count": 123,
     "metadata": {},
     "output_type": "execute_result"
    }
   ],
   "source": [
    "q('Batsman hits the ball to the Boundry','hits')"
   ]
  },
  {
   "cell_type": "code",
   "execution_count": 128,
   "id": "efa25d71",
   "metadata": {},
   "outputs": [],
   "source": [
    "q=lambda x,y:True if x>y else False"
   ]
  },
  {
   "cell_type": "code",
   "execution_count": 129,
   "id": "46eb82a1",
   "metadata": {},
   "outputs": [
    {
     "data": {
      "text/plain": [
       "False"
      ]
     },
     "execution_count": 129,
     "metadata": {},
     "output_type": "execute_result"
    }
   ],
   "source": [
    "q(7,9)"
   ]
  },
  {
   "cell_type": "code",
   "execution_count": null,
   "id": "b09a8695",
   "metadata": {},
   "outputs": [],
   "source": []
  }
 ],
 "metadata": {
  "kernelspec": {
   "display_name": "Python 3 (ipykernel)",
   "language": "python",
   "name": "python3"
  },
  "language_info": {
   "codemirror_mode": {
    "name": "ipython",
    "version": 3
   },
   "file_extension": ".py",
   "mimetype": "text/x-python",
   "name": "python",
   "nbconvert_exporter": "python",
   "pygments_lexer": "ipython3",
   "version": "3.9.12"
  }
 },
 "nbformat": 4,
 "nbformat_minor": 5
}
